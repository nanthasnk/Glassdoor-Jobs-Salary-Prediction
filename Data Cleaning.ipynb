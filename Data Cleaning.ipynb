{
 "cells": [
  {
   "cell_type": "markdown",
   "metadata": {},
   "source": [
    "## Import Data Libraries"
   ]
  },
  {
   "cell_type": "code",
   "execution_count": 1,
   "metadata": {},
   "outputs": [],
   "source": [
    "import pandas as pd\n",
    "import numpy as np\n",
    "import matplotlib.pyplot as plt\n",
    "import seaborn as sns"
   ]
  },
  {
   "cell_type": "markdown",
   "metadata": {},
   "source": [
    "## Reading and Viewing the dataset"
   ]
  },
  {
   "cell_type": "code",
   "execution_count": 2,
   "metadata": {},
   "outputs": [],
   "source": [
    "df = pd.read_csv(\"C:/Users/Nantha/Documents/Glassdoor-Job-Salary-Prediction/GlassdoorUSA.csv\")"
   ]
  },
  {
   "cell_type": "code",
   "execution_count": 3,
   "metadata": {},
   "outputs": [
    {
     "data": {
      "text/plain": [
       "(1000, 15)"
      ]
     },
     "execution_count": 3,
     "metadata": {},
     "output_type": "execute_result"
    }
   ],
   "source": [
    "df.shape #no.of rows,columns"
   ]
  },
  {
   "cell_type": "code",
   "execution_count": 4,
   "metadata": {
    "scrolled": true
   },
   "outputs": [
    {
     "data": {
      "text/html": [
       "<div>\n",
       "<style scoped>\n",
       "    .dataframe tbody tr th:only-of-type {\n",
       "        vertical-align: middle;\n",
       "    }\n",
       "\n",
       "    .dataframe tbody tr th {\n",
       "        vertical-align: top;\n",
       "    }\n",
       "\n",
       "    .dataframe thead th {\n",
       "        text-align: right;\n",
       "    }\n",
       "</style>\n",
       "<table border=\"1\" class=\"dataframe\">\n",
       "  <thead>\n",
       "    <tr style=\"text-align: right;\">\n",
       "      <th></th>\n",
       "      <th>Unnamed: 0</th>\n",
       "      <th>Job Title</th>\n",
       "      <th>Salary Estimate</th>\n",
       "      <th>Job Description</th>\n",
       "      <th>Rating</th>\n",
       "      <th>Company Name</th>\n",
       "      <th>Location</th>\n",
       "      <th>Headquarters</th>\n",
       "      <th>Size</th>\n",
       "      <th>Founded</th>\n",
       "      <th>Type of ownership</th>\n",
       "      <th>Industry</th>\n",
       "      <th>Sector</th>\n",
       "      <th>Revenue</th>\n",
       "      <th>Competitors</th>\n",
       "    </tr>\n",
       "  </thead>\n",
       "  <tbody>\n",
       "    <tr>\n",
       "      <td>0</td>\n",
       "      <td>0</td>\n",
       "      <td>Data Scientist / Machine Learning Expert</td>\n",
       "      <td>$96K-$101K (Glassdoor Est.)</td>\n",
       "      <td>Posting Title\\nData Scientist / Machine Learni...</td>\n",
       "      <td>3.9</td>\n",
       "      <td>Novartis\\n3.9</td>\n",
       "      <td>Cambridge, MA</td>\n",
       "      <td>Basel, Switzerland</td>\n",
       "      <td>10000+ employees</td>\n",
       "      <td>1996</td>\n",
       "      <td>Company - Public</td>\n",
       "      <td>Biotech &amp; Pharmaceuticals</td>\n",
       "      <td>Biotech &amp; Pharmaceuticals</td>\n",
       "      <td>₹500+ billion (INR)</td>\n",
       "      <td>-1</td>\n",
       "    </tr>\n",
       "    <tr>\n",
       "      <td>1</td>\n",
       "      <td>1</td>\n",
       "      <td>Data Scientist</td>\n",
       "      <td>$96K-$101K (Glassdoor Est.)</td>\n",
       "      <td>Overview\\n\\n\\nData Scientist\\n\\nLocations US-M...</td>\n",
       "      <td>4.0</td>\n",
       "      <td>Analysis Group\\n4.0</td>\n",
       "      <td>Boston, MA</td>\n",
       "      <td>Boston, MA</td>\n",
       "      <td>1001 to 5000 employees</td>\n",
       "      <td>1981</td>\n",
       "      <td>Private Practice / Firm</td>\n",
       "      <td>Consulting</td>\n",
       "      <td>Business Services</td>\n",
       "      <td>₹10 to ₹50 billion (INR)</td>\n",
       "      <td>-1</td>\n",
       "    </tr>\n",
       "    <tr>\n",
       "      <td>2</td>\n",
       "      <td>2</td>\n",
       "      <td>Data Scientist</td>\n",
       "      <td>$96K-$101K (Glassdoor Est.)</td>\n",
       "      <td>Search by Keyword\\nMore Options\\n\\nSearch by L...</td>\n",
       "      <td>4.1</td>\n",
       "      <td>ABIOMED\\n4.1</td>\n",
       "      <td>Danvers, MA</td>\n",
       "      <td>Danvers, MA</td>\n",
       "      <td>1001 to 5000 employees</td>\n",
       "      <td>1981</td>\n",
       "      <td>Company - Public</td>\n",
       "      <td>Biotech &amp; Pharmaceuticals</td>\n",
       "      <td>Biotech &amp; Pharmaceuticals</td>\n",
       "      <td>₹10 to ₹50 billion (INR)</td>\n",
       "      <td>Covidien, Boston Scientific</td>\n",
       "    </tr>\n",
       "    <tr>\n",
       "      <td>3</td>\n",
       "      <td>3</td>\n",
       "      <td>Data Scientist</td>\n",
       "      <td>$96K-$101K (Glassdoor Est.)</td>\n",
       "      <td>New England Biolabs is seeking a Data Scientis...</td>\n",
       "      <td>4.7</td>\n",
       "      <td>New England Biolabs\\n4.7</td>\n",
       "      <td>Ipswich, MA</td>\n",
       "      <td>Ipswich, MA</td>\n",
       "      <td>201 to 500 employees</td>\n",
       "      <td>1974</td>\n",
       "      <td>Company - Private</td>\n",
       "      <td>Biotech &amp; Pharmaceuticals</td>\n",
       "      <td>Biotech &amp; Pharmaceuticals</td>\n",
       "      <td>Unknown / Non-Applicable</td>\n",
       "      <td>Thermo Fisher Scientific, Enzymatics, Illumina</td>\n",
       "    </tr>\n",
       "    <tr>\n",
       "      <td>4</td>\n",
       "      <td>4</td>\n",
       "      <td>Data Scientist</td>\n",
       "      <td>$96K-$101K (Glassdoor Est.)</td>\n",
       "      <td>STR is a government research contractor specia...</td>\n",
       "      <td>4.7</td>\n",
       "      <td>Systems &amp; Technology Research\\n4.7</td>\n",
       "      <td>Woburn, MA</td>\n",
       "      <td>Woburn, MA</td>\n",
       "      <td>201 to 500 employees</td>\n",
       "      <td>2010</td>\n",
       "      <td>Company - Private</td>\n",
       "      <td>Aerospace &amp; Defence</td>\n",
       "      <td>Aerospace &amp; Defence</td>\n",
       "      <td>₹10 to ₹50 billion (INR)</td>\n",
       "      <td>-1</td>\n",
       "    </tr>\n",
       "  </tbody>\n",
       "</table>\n",
       "</div>"
      ],
      "text/plain": [
       "   Unnamed: 0                                 Job Title  \\\n",
       "0           0  Data Scientist / Machine Learning Expert   \n",
       "1           1                            Data Scientist   \n",
       "2           2                            Data Scientist   \n",
       "3           3                            Data Scientist   \n",
       "4           4                            Data Scientist   \n",
       "\n",
       "               Salary Estimate  \\\n",
       "0  $96K-$101K (Glassdoor Est.)   \n",
       "1  $96K-$101K (Glassdoor Est.)   \n",
       "2  $96K-$101K (Glassdoor Est.)   \n",
       "3  $96K-$101K (Glassdoor Est.)   \n",
       "4  $96K-$101K (Glassdoor Est.)   \n",
       "\n",
       "                                     Job Description  Rating  \\\n",
       "0  Posting Title\\nData Scientist / Machine Learni...     3.9   \n",
       "1  Overview\\n\\n\\nData Scientist\\n\\nLocations US-M...     4.0   \n",
       "2  Search by Keyword\\nMore Options\\n\\nSearch by L...     4.1   \n",
       "3  New England Biolabs is seeking a Data Scientis...     4.7   \n",
       "4  STR is a government research contractor specia...     4.7   \n",
       "\n",
       "                         Company Name       Location        Headquarters  \\\n",
       "0                       Novartis\\n3.9  Cambridge, MA  Basel, Switzerland   \n",
       "1                 Analysis Group\\n4.0     Boston, MA          Boston, MA   \n",
       "2                        ABIOMED\\n4.1    Danvers, MA         Danvers, MA   \n",
       "3            New England Biolabs\\n4.7    Ipswich, MA         Ipswich, MA   \n",
       "4  Systems & Technology Research\\n4.7     Woburn, MA          Woburn, MA   \n",
       "\n",
       "                     Size  Founded        Type of ownership  \\\n",
       "0        10000+ employees     1996         Company - Public   \n",
       "1  1001 to 5000 employees     1981  Private Practice / Firm   \n",
       "2  1001 to 5000 employees     1981         Company - Public   \n",
       "3    201 to 500 employees     1974        Company - Private   \n",
       "4    201 to 500 employees     2010        Company - Private   \n",
       "\n",
       "                    Industry                     Sector  \\\n",
       "0  Biotech & Pharmaceuticals  Biotech & Pharmaceuticals   \n",
       "1                 Consulting          Business Services   \n",
       "2  Biotech & Pharmaceuticals  Biotech & Pharmaceuticals   \n",
       "3  Biotech & Pharmaceuticals  Biotech & Pharmaceuticals   \n",
       "4        Aerospace & Defence        Aerospace & Defence   \n",
       "\n",
       "                    Revenue                                     Competitors  \n",
       "0       ₹500+ billion (INR)                                              -1  \n",
       "1  ₹10 to ₹50 billion (INR)                                              -1  \n",
       "2  ₹10 to ₹50 billion (INR)                     Covidien, Boston Scientific  \n",
       "3  Unknown / Non-Applicable  Thermo Fisher Scientific, Enzymatics, Illumina  \n",
       "4  ₹10 to ₹50 billion (INR)                                              -1  "
      ]
     },
     "execution_count": 4,
     "metadata": {},
     "output_type": "execute_result"
    }
   ],
   "source": [
    "df.head()"
   ]
  },
  {
   "cell_type": "markdown",
   "metadata": {},
   "source": [
    "## Types of features in dataset"
   ]
  },
  {
   "cell_type": "code",
   "execution_count": 5,
   "metadata": {},
   "outputs": [
    {
     "name": "stdout",
     "output_type": "stream",
     "text": [
      "<class 'pandas.core.frame.DataFrame'>\n",
      "RangeIndex: 1000 entries, 0 to 999\n",
      "Data columns (total 15 columns):\n",
      "Unnamed: 0           1000 non-null int64\n",
      "Job Title            1000 non-null object\n",
      "Salary Estimate      1000 non-null object\n",
      "Job Description      1000 non-null object\n",
      "Rating               1000 non-null float64\n",
      "Company Name         1000 non-null object\n",
      "Location             1000 non-null object\n",
      "Headquarters         1000 non-null object\n",
      "Size                 1000 non-null object\n",
      "Founded              1000 non-null int64\n",
      "Type of ownership    1000 non-null object\n",
      "Industry             1000 non-null object\n",
      "Sector               1000 non-null object\n",
      "Revenue              1000 non-null object\n",
      "Competitors          1000 non-null object\n",
      "dtypes: float64(1), int64(2), object(12)\n",
      "memory usage: 117.3+ KB\n"
     ]
    }
   ],
   "source": [
    "df.info()"
   ]
  },
  {
   "cell_type": "markdown",
   "metadata": {},
   "source": [
    "## Features which are to be cleaned/created\n",
    "1. Salary Average\n",
    "2. Company Name\n",
    "3. Same State\n",
    "3. Age Field\n",
    "4. Parsing of Job Description"
   ]
  },
  {
   "cell_type": "markdown",
   "metadata": {},
   "source": [
    "### 1. Salary Column Cleaning and average calculation"
   ]
  },
  {
   "cell_type": "code",
   "execution_count": 6,
   "metadata": {},
   "outputs": [
    {
     "data": {
      "text/plain": [
       "array(['$96K-$101K (Glassdoor Est.)', '$97K-$137K (Glassdoor Est.)',\n",
       "       '$101K-$133K (Glassdoor Est.)', '$89K-$147K (Glassdoor Est.)',\n",
       "       '$94K-$116K (Glassdoor Est.)', '$92K-$132K (Glassdoor Est.)',\n",
       "       '$58K-$99K (Glassdoor Est.)', '$212K-$332K (Glassdoor Est.)',\n",
       "       '$117K-$150K (Glassdoor Est.)', '$86K-$143K (Glassdoor Est.)',\n",
       "       '$125K-$156K (Glassdoor Est.)', '$111K-$153K (Glassdoor Est.)',\n",
       "       '$141K-$225K (Glassdoor Est.)', '$110K-$145K (Glassdoor Est.)',\n",
       "       '$200K-$250K(Employer Est.)', '$112K-$143K (Glassdoor Est.)',\n",
       "       '$120K-$135K (Glassdoor Est.)', '$71K-$110K (Glassdoor Est.)',\n",
       "       '$116K-$143K (Glassdoor Est.)', '$132K-$163K (Glassdoor Est.)',\n",
       "       '$110K-$177K (Glassdoor Est.)', '$88K-$99K (Glassdoor Est.)',\n",
       "       '$127K-$139K (Glassdoor Est.)', '$136K-$224K (Glassdoor Est.)',\n",
       "       '$93K-$148K (Glassdoor Est.)', '$79K-$133K (Glassdoor Est.)',\n",
       "       '$100K-$150K (Glassdoor Est.)', '$113K-$190K (Glassdoor Est.)',\n",
       "       '$89K-$128K (Glassdoor Est.)', '$94K-$114K (Glassdoor Est.)',\n",
       "       '$141K-$170K (Glassdoor Est.)', '$70K-$123K (Glassdoor Est.)',\n",
       "       '$50K-$100K (Glassdoor Est.)', '$129K-$148K (Glassdoor Est.)',\n",
       "       '$87K-$149K (Glassdoor Est.)'], dtype=object)"
      ]
     },
     "execution_count": 6,
     "metadata": {},
     "output_type": "execute_result"
    }
   ],
   "source": [
    "df['Salary Estimate'].unique()"
   ]
  },
  {
   "cell_type": "code",
   "execution_count": 7,
   "metadata": {},
   "outputs": [],
   "source": [
    "df['Salary Estimate'] = df['Salary Estimate'].apply(lambda x: x.split('(')[0])"
   ]
  },
  {
   "cell_type": "code",
   "execution_count": 8,
   "metadata": {},
   "outputs": [
    {
     "data": {
      "text/plain": [
       "0    $96K-$101K \n",
       "1    $96K-$101K \n",
       "2    $96K-$101K \n",
       "3    $96K-$101K \n",
       "4    $96K-$101K \n",
       "Name: Salary Estimate, dtype: object"
      ]
     },
     "execution_count": 8,
     "metadata": {},
     "output_type": "execute_result"
    }
   ],
   "source": [
    "df['Salary Estimate'].head()"
   ]
  },
  {
   "cell_type": "code",
   "execution_count": 9,
   "metadata": {},
   "outputs": [],
   "source": [
    "df['Salary Estimate'] = df['Salary Estimate'].apply(lambda x: x.replace(\"K\",\"\").replace(\"$\",\"\"))"
   ]
  },
  {
   "cell_type": "code",
   "execution_count": 10,
   "metadata": {},
   "outputs": [
    {
     "data": {
      "text/plain": [
       "0    96-101 \n",
       "1    96-101 \n",
       "2    96-101 \n",
       "3    96-101 \n",
       "4    96-101 \n",
       "Name: Salary Estimate, dtype: object"
      ]
     },
     "execution_count": 10,
     "metadata": {},
     "output_type": "execute_result"
    }
   ],
   "source": [
    "df['Salary Estimate'].head()"
   ]
  },
  {
   "cell_type": "code",
   "execution_count": 11,
   "metadata": {},
   "outputs": [],
   "source": [
    "df['Min Salary'] =df['Salary Estimate'].apply(lambda x:int(x.split(\"-\")[0]))"
   ]
  },
  {
   "cell_type": "code",
   "execution_count": 12,
   "metadata": {},
   "outputs": [],
   "source": [
    "df['Max Salary'] = df['Salary Estimate'].apply(lambda x:int(x.split(\"-\")[1]))"
   ]
  },
  {
   "cell_type": "code",
   "execution_count": 13,
   "metadata": {},
   "outputs": [],
   "source": [
    "df['Avg Salary'] = (df['Min Salary'] + df['Max Salary'])/2"
   ]
  },
  {
   "cell_type": "markdown",
   "metadata": {},
   "source": [
    "### 2. Company Name & Job State cleaning"
   ]
  },
  {
   "cell_type": "code",
   "execution_count": 15,
   "metadata": {},
   "outputs": [],
   "source": [
    "df['Company Name'] = df['Company Name'].apply(lambda x: x.split(\"\\n\")[0])"
   ]
  },
  {
   "cell_type": "code",
   "execution_count": 16,
   "metadata": {},
   "outputs": [
    {
     "data": {
      "text/html": [
       "<div>\n",
       "<style scoped>\n",
       "    .dataframe tbody tr th:only-of-type {\n",
       "        vertical-align: middle;\n",
       "    }\n",
       "\n",
       "    .dataframe tbody tr th {\n",
       "        vertical-align: top;\n",
       "    }\n",
       "\n",
       "    .dataframe thead th {\n",
       "        text-align: right;\n",
       "    }\n",
       "</style>\n",
       "<table border=\"1\" class=\"dataframe\">\n",
       "  <thead>\n",
       "    <tr style=\"text-align: right;\">\n",
       "      <th></th>\n",
       "      <th>Unnamed: 0</th>\n",
       "      <th>Job Title</th>\n",
       "      <th>Salary Estimate</th>\n",
       "      <th>Job Description</th>\n",
       "      <th>Rating</th>\n",
       "      <th>Company Name</th>\n",
       "      <th>Location</th>\n",
       "      <th>Headquarters</th>\n",
       "      <th>Size</th>\n",
       "      <th>Founded</th>\n",
       "      <th>Type of ownership</th>\n",
       "      <th>Industry</th>\n",
       "      <th>Sector</th>\n",
       "      <th>Revenue</th>\n",
       "      <th>Competitors</th>\n",
       "      <th>Min Salary</th>\n",
       "      <th>Max Salary</th>\n",
       "      <th>Avg Salary</th>\n",
       "    </tr>\n",
       "  </thead>\n",
       "  <tbody>\n",
       "    <tr>\n",
       "      <td>0</td>\n",
       "      <td>0</td>\n",
       "      <td>Data Scientist / Machine Learning Expert</td>\n",
       "      <td>96-101</td>\n",
       "      <td>Posting Title\\nData Scientist / Machine Learni...</td>\n",
       "      <td>3.9</td>\n",
       "      <td>Novartis</td>\n",
       "      <td>Cambridge, MA</td>\n",
       "      <td>Basel, Switzerland</td>\n",
       "      <td>10000+ employees</td>\n",
       "      <td>1996</td>\n",
       "      <td>Company - Public</td>\n",
       "      <td>Biotech &amp; Pharmaceuticals</td>\n",
       "      <td>Biotech &amp; Pharmaceuticals</td>\n",
       "      <td>₹500+ billion (INR)</td>\n",
       "      <td>-1</td>\n",
       "      <td>96</td>\n",
       "      <td>101</td>\n",
       "      <td>98.5</td>\n",
       "    </tr>\n",
       "    <tr>\n",
       "      <td>1</td>\n",
       "      <td>1</td>\n",
       "      <td>Data Scientist</td>\n",
       "      <td>96-101</td>\n",
       "      <td>Overview\\n\\n\\nData Scientist\\n\\nLocations US-M...</td>\n",
       "      <td>4.0</td>\n",
       "      <td>Analysis Group</td>\n",
       "      <td>Boston, MA</td>\n",
       "      <td>Boston, MA</td>\n",
       "      <td>1001 to 5000 employees</td>\n",
       "      <td>1981</td>\n",
       "      <td>Private Practice / Firm</td>\n",
       "      <td>Consulting</td>\n",
       "      <td>Business Services</td>\n",
       "      <td>₹10 to ₹50 billion (INR)</td>\n",
       "      <td>-1</td>\n",
       "      <td>96</td>\n",
       "      <td>101</td>\n",
       "      <td>98.5</td>\n",
       "    </tr>\n",
       "    <tr>\n",
       "      <td>2</td>\n",
       "      <td>2</td>\n",
       "      <td>Data Scientist</td>\n",
       "      <td>96-101</td>\n",
       "      <td>Search by Keyword\\nMore Options\\n\\nSearch by L...</td>\n",
       "      <td>4.1</td>\n",
       "      <td>ABIOMED</td>\n",
       "      <td>Danvers, MA</td>\n",
       "      <td>Danvers, MA</td>\n",
       "      <td>1001 to 5000 employees</td>\n",
       "      <td>1981</td>\n",
       "      <td>Company - Public</td>\n",
       "      <td>Biotech &amp; Pharmaceuticals</td>\n",
       "      <td>Biotech &amp; Pharmaceuticals</td>\n",
       "      <td>₹10 to ₹50 billion (INR)</td>\n",
       "      <td>Covidien, Boston Scientific</td>\n",
       "      <td>96</td>\n",
       "      <td>101</td>\n",
       "      <td>98.5</td>\n",
       "    </tr>\n",
       "    <tr>\n",
       "      <td>3</td>\n",
       "      <td>3</td>\n",
       "      <td>Data Scientist</td>\n",
       "      <td>96-101</td>\n",
       "      <td>New England Biolabs is seeking a Data Scientis...</td>\n",
       "      <td>4.7</td>\n",
       "      <td>New England Biolabs</td>\n",
       "      <td>Ipswich, MA</td>\n",
       "      <td>Ipswich, MA</td>\n",
       "      <td>201 to 500 employees</td>\n",
       "      <td>1974</td>\n",
       "      <td>Company - Private</td>\n",
       "      <td>Biotech &amp; Pharmaceuticals</td>\n",
       "      <td>Biotech &amp; Pharmaceuticals</td>\n",
       "      <td>Unknown / Non-Applicable</td>\n",
       "      <td>Thermo Fisher Scientific, Enzymatics, Illumina</td>\n",
       "      <td>96</td>\n",
       "      <td>101</td>\n",
       "      <td>98.5</td>\n",
       "    </tr>\n",
       "    <tr>\n",
       "      <td>4</td>\n",
       "      <td>4</td>\n",
       "      <td>Data Scientist</td>\n",
       "      <td>96-101</td>\n",
       "      <td>STR is a government research contractor specia...</td>\n",
       "      <td>4.7</td>\n",
       "      <td>Systems &amp; Technology Research</td>\n",
       "      <td>Woburn, MA</td>\n",
       "      <td>Woburn, MA</td>\n",
       "      <td>201 to 500 employees</td>\n",
       "      <td>2010</td>\n",
       "      <td>Company - Private</td>\n",
       "      <td>Aerospace &amp; Defence</td>\n",
       "      <td>Aerospace &amp; Defence</td>\n",
       "      <td>₹10 to ₹50 billion (INR)</td>\n",
       "      <td>-1</td>\n",
       "      <td>96</td>\n",
       "      <td>101</td>\n",
       "      <td>98.5</td>\n",
       "    </tr>\n",
       "  </tbody>\n",
       "</table>\n",
       "</div>"
      ],
      "text/plain": [
       "   Unnamed: 0                                 Job Title Salary Estimate  \\\n",
       "0           0  Data Scientist / Machine Learning Expert         96-101    \n",
       "1           1                            Data Scientist         96-101    \n",
       "2           2                            Data Scientist         96-101    \n",
       "3           3                            Data Scientist         96-101    \n",
       "4           4                            Data Scientist         96-101    \n",
       "\n",
       "                                     Job Description  Rating  \\\n",
       "0  Posting Title\\nData Scientist / Machine Learni...     3.9   \n",
       "1  Overview\\n\\n\\nData Scientist\\n\\nLocations US-M...     4.0   \n",
       "2  Search by Keyword\\nMore Options\\n\\nSearch by L...     4.1   \n",
       "3  New England Biolabs is seeking a Data Scientis...     4.7   \n",
       "4  STR is a government research contractor specia...     4.7   \n",
       "\n",
       "                    Company Name       Location        Headquarters  \\\n",
       "0                       Novartis  Cambridge, MA  Basel, Switzerland   \n",
       "1                 Analysis Group     Boston, MA          Boston, MA   \n",
       "2                        ABIOMED    Danvers, MA         Danvers, MA   \n",
       "3            New England Biolabs    Ipswich, MA         Ipswich, MA   \n",
       "4  Systems & Technology Research     Woburn, MA          Woburn, MA   \n",
       "\n",
       "                     Size  Founded        Type of ownership  \\\n",
       "0        10000+ employees     1996         Company - Public   \n",
       "1  1001 to 5000 employees     1981  Private Practice / Firm   \n",
       "2  1001 to 5000 employees     1981         Company - Public   \n",
       "3    201 to 500 employees     1974        Company - Private   \n",
       "4    201 to 500 employees     2010        Company - Private   \n",
       "\n",
       "                    Industry                     Sector  \\\n",
       "0  Biotech & Pharmaceuticals  Biotech & Pharmaceuticals   \n",
       "1                 Consulting          Business Services   \n",
       "2  Biotech & Pharmaceuticals  Biotech & Pharmaceuticals   \n",
       "3  Biotech & Pharmaceuticals  Biotech & Pharmaceuticals   \n",
       "4        Aerospace & Defence        Aerospace & Defence   \n",
       "\n",
       "                    Revenue                                     Competitors  \\\n",
       "0       ₹500+ billion (INR)                                              -1   \n",
       "1  ₹10 to ₹50 billion (INR)                                              -1   \n",
       "2  ₹10 to ₹50 billion (INR)                     Covidien, Boston Scientific   \n",
       "3  Unknown / Non-Applicable  Thermo Fisher Scientific, Enzymatics, Illumina   \n",
       "4  ₹10 to ₹50 billion (INR)                                              -1   \n",
       "\n",
       "   Min Salary  Max Salary  Avg Salary  \n",
       "0          96         101        98.5  \n",
       "1          96         101        98.5  \n",
       "2          96         101        98.5  \n",
       "3          96         101        98.5  \n",
       "4          96         101        98.5  "
      ]
     },
     "execution_count": 16,
     "metadata": {},
     "output_type": "execute_result"
    }
   ],
   "source": [
    "df.head()"
   ]
  },
  {
   "cell_type": "code",
   "execution_count": 17,
   "metadata": {},
   "outputs": [],
   "source": [
    "df['Job State'] = df['Location'].apply(lambda x: x.split(',')[1])"
   ]
  },
  {
   "cell_type": "code",
   "execution_count": 18,
   "metadata": {},
   "outputs": [
    {
     "data": {
      "text/plain": [
       " CA    400\n",
       " NY    266\n",
       " MA    200\n",
       " WA    100\n",
       " NJ     30\n",
       " CT      4\n",
       "Name: Job State, dtype: int64"
      ]
     },
     "execution_count": 18,
     "metadata": {},
     "output_type": "execute_result"
    }
   ],
   "source": [
    "df['Job State'].value_counts()"
   ]
  },
  {
   "cell_type": "markdown",
   "metadata": {},
   "source": [
    "We can see that most of the jobs are from California and least is from Connecticut"
   ]
  },
  {
   "cell_type": "markdown",
   "metadata": {},
   "source": [
    "### 3. Creating Same State feature\n",
    "If the job is available in the Headquaters State itself we will assign 1"
   ]
  },
  {
   "cell_type": "code",
   "execution_count": 19,
   "metadata": {},
   "outputs": [],
   "source": [
    "df['Same State'] = df.apply(lambda x: 1 if x.Location == x.Headquarters else 0,axis =1)"
   ]
  },
  {
   "cell_type": "code",
   "execution_count": 20,
   "metadata": {},
   "outputs": [
    {
     "data": {
      "text/html": [
       "<div>\n",
       "<style scoped>\n",
       "    .dataframe tbody tr th:only-of-type {\n",
       "        vertical-align: middle;\n",
       "    }\n",
       "\n",
       "    .dataframe tbody tr th {\n",
       "        vertical-align: top;\n",
       "    }\n",
       "\n",
       "    .dataframe thead th {\n",
       "        text-align: right;\n",
       "    }\n",
       "</style>\n",
       "<table border=\"1\" class=\"dataframe\">\n",
       "  <thead>\n",
       "    <tr style=\"text-align: right;\">\n",
       "      <th></th>\n",
       "      <th>Unnamed: 0</th>\n",
       "      <th>Job Title</th>\n",
       "      <th>Salary Estimate</th>\n",
       "      <th>Job Description</th>\n",
       "      <th>Rating</th>\n",
       "      <th>Company Name</th>\n",
       "      <th>Location</th>\n",
       "      <th>Headquarters</th>\n",
       "      <th>Size</th>\n",
       "      <th>Founded</th>\n",
       "      <th>Type of ownership</th>\n",
       "      <th>Industry</th>\n",
       "      <th>Sector</th>\n",
       "      <th>Revenue</th>\n",
       "      <th>Competitors</th>\n",
       "      <th>Min Salary</th>\n",
       "      <th>Max Salary</th>\n",
       "      <th>Avg Salary</th>\n",
       "      <th>Job State</th>\n",
       "      <th>Same State</th>\n",
       "    </tr>\n",
       "  </thead>\n",
       "  <tbody>\n",
       "    <tr>\n",
       "      <td>0</td>\n",
       "      <td>0</td>\n",
       "      <td>Data Scientist / Machine Learning Expert</td>\n",
       "      <td>96-101</td>\n",
       "      <td>Posting Title\\nData Scientist / Machine Learni...</td>\n",
       "      <td>3.9</td>\n",
       "      <td>Novartis</td>\n",
       "      <td>Cambridge, MA</td>\n",
       "      <td>Basel, Switzerland</td>\n",
       "      <td>10000+ employees</td>\n",
       "      <td>1996</td>\n",
       "      <td>Company - Public</td>\n",
       "      <td>Biotech &amp; Pharmaceuticals</td>\n",
       "      <td>Biotech &amp; Pharmaceuticals</td>\n",
       "      <td>₹500+ billion (INR)</td>\n",
       "      <td>-1</td>\n",
       "      <td>96</td>\n",
       "      <td>101</td>\n",
       "      <td>98.5</td>\n",
       "      <td>MA</td>\n",
       "      <td>0</td>\n",
       "    </tr>\n",
       "    <tr>\n",
       "      <td>1</td>\n",
       "      <td>1</td>\n",
       "      <td>Data Scientist</td>\n",
       "      <td>96-101</td>\n",
       "      <td>Overview\\n\\n\\nData Scientist\\n\\nLocations US-M...</td>\n",
       "      <td>4.0</td>\n",
       "      <td>Analysis Group</td>\n",
       "      <td>Boston, MA</td>\n",
       "      <td>Boston, MA</td>\n",
       "      <td>1001 to 5000 employees</td>\n",
       "      <td>1981</td>\n",
       "      <td>Private Practice / Firm</td>\n",
       "      <td>Consulting</td>\n",
       "      <td>Business Services</td>\n",
       "      <td>₹10 to ₹50 billion (INR)</td>\n",
       "      <td>-1</td>\n",
       "      <td>96</td>\n",
       "      <td>101</td>\n",
       "      <td>98.5</td>\n",
       "      <td>MA</td>\n",
       "      <td>1</td>\n",
       "    </tr>\n",
       "    <tr>\n",
       "      <td>2</td>\n",
       "      <td>2</td>\n",
       "      <td>Data Scientist</td>\n",
       "      <td>96-101</td>\n",
       "      <td>Search by Keyword\\nMore Options\\n\\nSearch by L...</td>\n",
       "      <td>4.1</td>\n",
       "      <td>ABIOMED</td>\n",
       "      <td>Danvers, MA</td>\n",
       "      <td>Danvers, MA</td>\n",
       "      <td>1001 to 5000 employees</td>\n",
       "      <td>1981</td>\n",
       "      <td>Company - Public</td>\n",
       "      <td>Biotech &amp; Pharmaceuticals</td>\n",
       "      <td>Biotech &amp; Pharmaceuticals</td>\n",
       "      <td>₹10 to ₹50 billion (INR)</td>\n",
       "      <td>Covidien, Boston Scientific</td>\n",
       "      <td>96</td>\n",
       "      <td>101</td>\n",
       "      <td>98.5</td>\n",
       "      <td>MA</td>\n",
       "      <td>1</td>\n",
       "    </tr>\n",
       "    <tr>\n",
       "      <td>3</td>\n",
       "      <td>3</td>\n",
       "      <td>Data Scientist</td>\n",
       "      <td>96-101</td>\n",
       "      <td>New England Biolabs is seeking a Data Scientis...</td>\n",
       "      <td>4.7</td>\n",
       "      <td>New England Biolabs</td>\n",
       "      <td>Ipswich, MA</td>\n",
       "      <td>Ipswich, MA</td>\n",
       "      <td>201 to 500 employees</td>\n",
       "      <td>1974</td>\n",
       "      <td>Company - Private</td>\n",
       "      <td>Biotech &amp; Pharmaceuticals</td>\n",
       "      <td>Biotech &amp; Pharmaceuticals</td>\n",
       "      <td>Unknown / Non-Applicable</td>\n",
       "      <td>Thermo Fisher Scientific, Enzymatics, Illumina</td>\n",
       "      <td>96</td>\n",
       "      <td>101</td>\n",
       "      <td>98.5</td>\n",
       "      <td>MA</td>\n",
       "      <td>1</td>\n",
       "    </tr>\n",
       "    <tr>\n",
       "      <td>4</td>\n",
       "      <td>4</td>\n",
       "      <td>Data Scientist</td>\n",
       "      <td>96-101</td>\n",
       "      <td>STR is a government research contractor specia...</td>\n",
       "      <td>4.7</td>\n",
       "      <td>Systems &amp; Technology Research</td>\n",
       "      <td>Woburn, MA</td>\n",
       "      <td>Woburn, MA</td>\n",
       "      <td>201 to 500 employees</td>\n",
       "      <td>2010</td>\n",
       "      <td>Company - Private</td>\n",
       "      <td>Aerospace &amp; Defence</td>\n",
       "      <td>Aerospace &amp; Defence</td>\n",
       "      <td>₹10 to ₹50 billion (INR)</td>\n",
       "      <td>-1</td>\n",
       "      <td>96</td>\n",
       "      <td>101</td>\n",
       "      <td>98.5</td>\n",
       "      <td>MA</td>\n",
       "      <td>1</td>\n",
       "    </tr>\n",
       "  </tbody>\n",
       "</table>\n",
       "</div>"
      ],
      "text/plain": [
       "   Unnamed: 0                                 Job Title Salary Estimate  \\\n",
       "0           0  Data Scientist / Machine Learning Expert         96-101    \n",
       "1           1                            Data Scientist         96-101    \n",
       "2           2                            Data Scientist         96-101    \n",
       "3           3                            Data Scientist         96-101    \n",
       "4           4                            Data Scientist         96-101    \n",
       "\n",
       "                                     Job Description  Rating  \\\n",
       "0  Posting Title\\nData Scientist / Machine Learni...     3.9   \n",
       "1  Overview\\n\\n\\nData Scientist\\n\\nLocations US-M...     4.0   \n",
       "2  Search by Keyword\\nMore Options\\n\\nSearch by L...     4.1   \n",
       "3  New England Biolabs is seeking a Data Scientis...     4.7   \n",
       "4  STR is a government research contractor specia...     4.7   \n",
       "\n",
       "                    Company Name       Location        Headquarters  \\\n",
       "0                       Novartis  Cambridge, MA  Basel, Switzerland   \n",
       "1                 Analysis Group     Boston, MA          Boston, MA   \n",
       "2                        ABIOMED    Danvers, MA         Danvers, MA   \n",
       "3            New England Biolabs    Ipswich, MA         Ipswich, MA   \n",
       "4  Systems & Technology Research     Woburn, MA          Woburn, MA   \n",
       "\n",
       "                     Size  Founded        Type of ownership  \\\n",
       "0        10000+ employees     1996         Company - Public   \n",
       "1  1001 to 5000 employees     1981  Private Practice / Firm   \n",
       "2  1001 to 5000 employees     1981         Company - Public   \n",
       "3    201 to 500 employees     1974        Company - Private   \n",
       "4    201 to 500 employees     2010        Company - Private   \n",
       "\n",
       "                    Industry                     Sector  \\\n",
       "0  Biotech & Pharmaceuticals  Biotech & Pharmaceuticals   \n",
       "1                 Consulting          Business Services   \n",
       "2  Biotech & Pharmaceuticals  Biotech & Pharmaceuticals   \n",
       "3  Biotech & Pharmaceuticals  Biotech & Pharmaceuticals   \n",
       "4        Aerospace & Defence        Aerospace & Defence   \n",
       "\n",
       "                    Revenue                                     Competitors  \\\n",
       "0       ₹500+ billion (INR)                                              -1   \n",
       "1  ₹10 to ₹50 billion (INR)                                              -1   \n",
       "2  ₹10 to ₹50 billion (INR)                     Covidien, Boston Scientific   \n",
       "3  Unknown / Non-Applicable  Thermo Fisher Scientific, Enzymatics, Illumina   \n",
       "4  ₹10 to ₹50 billion (INR)                                              -1   \n",
       "\n",
       "   Min Salary  Max Salary  Avg Salary Job State  Same State  \n",
       "0          96         101        98.5        MA           0  \n",
       "1          96         101        98.5        MA           1  \n",
       "2          96         101        98.5        MA           1  \n",
       "3          96         101        98.5        MA           1  \n",
       "4          96         101        98.5        MA           1  "
      ]
     },
     "execution_count": 20,
     "metadata": {},
     "output_type": "execute_result"
    }
   ],
   "source": [
    "df.head()"
   ]
  },
  {
   "cell_type": "markdown",
   "metadata": {},
   "source": [
    "### 4. Age of Company"
   ]
  },
  {
   "cell_type": "code",
   "execution_count": 21,
   "metadata": {},
   "outputs": [],
   "source": [
    "df['Age'] = df['Founded'].apply(lambda x: x if x <1 else 2020-x)"
   ]
  },
  {
   "cell_type": "code",
   "execution_count": 22,
   "metadata": {
    "scrolled": true
   },
   "outputs": [
    {
     "data": {
      "text/html": [
       "<div>\n",
       "<style scoped>\n",
       "    .dataframe tbody tr th:only-of-type {\n",
       "        vertical-align: middle;\n",
       "    }\n",
       "\n",
       "    .dataframe tbody tr th {\n",
       "        vertical-align: top;\n",
       "    }\n",
       "\n",
       "    .dataframe thead th {\n",
       "        text-align: right;\n",
       "    }\n",
       "</style>\n",
       "<table border=\"1\" class=\"dataframe\">\n",
       "  <thead>\n",
       "    <tr style=\"text-align: right;\">\n",
       "      <th></th>\n",
       "      <th>Unnamed: 0</th>\n",
       "      <th>Job Title</th>\n",
       "      <th>Salary Estimate</th>\n",
       "      <th>Job Description</th>\n",
       "      <th>Rating</th>\n",
       "      <th>Company Name</th>\n",
       "      <th>Location</th>\n",
       "      <th>Headquarters</th>\n",
       "      <th>Size</th>\n",
       "      <th>Founded</th>\n",
       "      <th>...</th>\n",
       "      <th>Industry</th>\n",
       "      <th>Sector</th>\n",
       "      <th>Revenue</th>\n",
       "      <th>Competitors</th>\n",
       "      <th>Min Salary</th>\n",
       "      <th>Max Salary</th>\n",
       "      <th>Avg Salary</th>\n",
       "      <th>Job State</th>\n",
       "      <th>Same State</th>\n",
       "      <th>Age</th>\n",
       "    </tr>\n",
       "  </thead>\n",
       "  <tbody>\n",
       "    <tr>\n",
       "      <td>0</td>\n",
       "      <td>0</td>\n",
       "      <td>Data Scientist / Machine Learning Expert</td>\n",
       "      <td>96-101</td>\n",
       "      <td>Posting Title\\nData Scientist / Machine Learni...</td>\n",
       "      <td>3.9</td>\n",
       "      <td>Novartis</td>\n",
       "      <td>Cambridge, MA</td>\n",
       "      <td>Basel, Switzerland</td>\n",
       "      <td>10000+ employees</td>\n",
       "      <td>1996</td>\n",
       "      <td>...</td>\n",
       "      <td>Biotech &amp; Pharmaceuticals</td>\n",
       "      <td>Biotech &amp; Pharmaceuticals</td>\n",
       "      <td>₹500+ billion (INR)</td>\n",
       "      <td>-1</td>\n",
       "      <td>96</td>\n",
       "      <td>101</td>\n",
       "      <td>98.5</td>\n",
       "      <td>MA</td>\n",
       "      <td>0</td>\n",
       "      <td>24</td>\n",
       "    </tr>\n",
       "    <tr>\n",
       "      <td>1</td>\n",
       "      <td>1</td>\n",
       "      <td>Data Scientist</td>\n",
       "      <td>96-101</td>\n",
       "      <td>Overview\\n\\n\\nData Scientist\\n\\nLocations US-M...</td>\n",
       "      <td>4.0</td>\n",
       "      <td>Analysis Group</td>\n",
       "      <td>Boston, MA</td>\n",
       "      <td>Boston, MA</td>\n",
       "      <td>1001 to 5000 employees</td>\n",
       "      <td>1981</td>\n",
       "      <td>...</td>\n",
       "      <td>Consulting</td>\n",
       "      <td>Business Services</td>\n",
       "      <td>₹10 to ₹50 billion (INR)</td>\n",
       "      <td>-1</td>\n",
       "      <td>96</td>\n",
       "      <td>101</td>\n",
       "      <td>98.5</td>\n",
       "      <td>MA</td>\n",
       "      <td>1</td>\n",
       "      <td>39</td>\n",
       "    </tr>\n",
       "    <tr>\n",
       "      <td>2</td>\n",
       "      <td>2</td>\n",
       "      <td>Data Scientist</td>\n",
       "      <td>96-101</td>\n",
       "      <td>Search by Keyword\\nMore Options\\n\\nSearch by L...</td>\n",
       "      <td>4.1</td>\n",
       "      <td>ABIOMED</td>\n",
       "      <td>Danvers, MA</td>\n",
       "      <td>Danvers, MA</td>\n",
       "      <td>1001 to 5000 employees</td>\n",
       "      <td>1981</td>\n",
       "      <td>...</td>\n",
       "      <td>Biotech &amp; Pharmaceuticals</td>\n",
       "      <td>Biotech &amp; Pharmaceuticals</td>\n",
       "      <td>₹10 to ₹50 billion (INR)</td>\n",
       "      <td>Covidien, Boston Scientific</td>\n",
       "      <td>96</td>\n",
       "      <td>101</td>\n",
       "      <td>98.5</td>\n",
       "      <td>MA</td>\n",
       "      <td>1</td>\n",
       "      <td>39</td>\n",
       "    </tr>\n",
       "    <tr>\n",
       "      <td>3</td>\n",
       "      <td>3</td>\n",
       "      <td>Data Scientist</td>\n",
       "      <td>96-101</td>\n",
       "      <td>New England Biolabs is seeking a Data Scientis...</td>\n",
       "      <td>4.7</td>\n",
       "      <td>New England Biolabs</td>\n",
       "      <td>Ipswich, MA</td>\n",
       "      <td>Ipswich, MA</td>\n",
       "      <td>201 to 500 employees</td>\n",
       "      <td>1974</td>\n",
       "      <td>...</td>\n",
       "      <td>Biotech &amp; Pharmaceuticals</td>\n",
       "      <td>Biotech &amp; Pharmaceuticals</td>\n",
       "      <td>Unknown / Non-Applicable</td>\n",
       "      <td>Thermo Fisher Scientific, Enzymatics, Illumina</td>\n",
       "      <td>96</td>\n",
       "      <td>101</td>\n",
       "      <td>98.5</td>\n",
       "      <td>MA</td>\n",
       "      <td>1</td>\n",
       "      <td>46</td>\n",
       "    </tr>\n",
       "    <tr>\n",
       "      <td>4</td>\n",
       "      <td>4</td>\n",
       "      <td>Data Scientist</td>\n",
       "      <td>96-101</td>\n",
       "      <td>STR is a government research contractor specia...</td>\n",
       "      <td>4.7</td>\n",
       "      <td>Systems &amp; Technology Research</td>\n",
       "      <td>Woburn, MA</td>\n",
       "      <td>Woburn, MA</td>\n",
       "      <td>201 to 500 employees</td>\n",
       "      <td>2010</td>\n",
       "      <td>...</td>\n",
       "      <td>Aerospace &amp; Defence</td>\n",
       "      <td>Aerospace &amp; Defence</td>\n",
       "      <td>₹10 to ₹50 billion (INR)</td>\n",
       "      <td>-1</td>\n",
       "      <td>96</td>\n",
       "      <td>101</td>\n",
       "      <td>98.5</td>\n",
       "      <td>MA</td>\n",
       "      <td>1</td>\n",
       "      <td>10</td>\n",
       "    </tr>\n",
       "  </tbody>\n",
       "</table>\n",
       "<p>5 rows × 21 columns</p>\n",
       "</div>"
      ],
      "text/plain": [
       "   Unnamed: 0                                 Job Title Salary Estimate  \\\n",
       "0           0  Data Scientist / Machine Learning Expert         96-101    \n",
       "1           1                            Data Scientist         96-101    \n",
       "2           2                            Data Scientist         96-101    \n",
       "3           3                            Data Scientist         96-101    \n",
       "4           4                            Data Scientist         96-101    \n",
       "\n",
       "                                     Job Description  Rating  \\\n",
       "0  Posting Title\\nData Scientist / Machine Learni...     3.9   \n",
       "1  Overview\\n\\n\\nData Scientist\\n\\nLocations US-M...     4.0   \n",
       "2  Search by Keyword\\nMore Options\\n\\nSearch by L...     4.1   \n",
       "3  New England Biolabs is seeking a Data Scientis...     4.7   \n",
       "4  STR is a government research contractor specia...     4.7   \n",
       "\n",
       "                    Company Name       Location        Headquarters  \\\n",
       "0                       Novartis  Cambridge, MA  Basel, Switzerland   \n",
       "1                 Analysis Group     Boston, MA          Boston, MA   \n",
       "2                        ABIOMED    Danvers, MA         Danvers, MA   \n",
       "3            New England Biolabs    Ipswich, MA         Ipswich, MA   \n",
       "4  Systems & Technology Research     Woburn, MA          Woburn, MA   \n",
       "\n",
       "                     Size  Founded  ...                   Industry  \\\n",
       "0        10000+ employees     1996  ...  Biotech & Pharmaceuticals   \n",
       "1  1001 to 5000 employees     1981  ...                 Consulting   \n",
       "2  1001 to 5000 employees     1981  ...  Biotech & Pharmaceuticals   \n",
       "3    201 to 500 employees     1974  ...  Biotech & Pharmaceuticals   \n",
       "4    201 to 500 employees     2010  ...        Aerospace & Defence   \n",
       "\n",
       "                      Sector                   Revenue  \\\n",
       "0  Biotech & Pharmaceuticals       ₹500+ billion (INR)   \n",
       "1          Business Services  ₹10 to ₹50 billion (INR)   \n",
       "2  Biotech & Pharmaceuticals  ₹10 to ₹50 billion (INR)   \n",
       "3  Biotech & Pharmaceuticals  Unknown / Non-Applicable   \n",
       "4        Aerospace & Defence  ₹10 to ₹50 billion (INR)   \n",
       "\n",
       "                                      Competitors Min Salary  Max Salary  \\\n",
       "0                                              -1         96         101   \n",
       "1                                              -1         96         101   \n",
       "2                     Covidien, Boston Scientific         96         101   \n",
       "3  Thermo Fisher Scientific, Enzymatics, Illumina         96         101   \n",
       "4                                              -1         96         101   \n",
       "\n",
       "   Avg Salary  Job State Same State  Age  \n",
       "0        98.5         MA          0   24  \n",
       "1        98.5         MA          1   39  \n",
       "2        98.5         MA          1   39  \n",
       "3        98.5         MA          1   46  \n",
       "4        98.5         MA          1   10  \n",
       "\n",
       "[5 rows x 21 columns]"
      ]
     },
     "execution_count": 22,
     "metadata": {},
     "output_type": "execute_result"
    }
   ],
   "source": [
    "df.head()"
   ]
  },
  {
   "cell_type": "markdown",
   "metadata": {},
   "source": [
    "### 5. Job Description Parsing\n",
    "We will parse and find out the technical skills needed for the job like Python, R, SQL, Tableau, etc.."
   ]
  },
  {
   "cell_type": "code",
   "execution_count": 23,
   "metadata": {},
   "outputs": [],
   "source": [
    "df['Python'] = df['Job Description'].apply(lambda x: 1 if 'python' in x.lower() else 0)"
   ]
  },
  {
   "cell_type": "code",
   "execution_count": 25,
   "metadata": {},
   "outputs": [
    {
     "data": {
      "text/plain": [
       "1    792\n",
       "0    208\n",
       "Name: Python, dtype: int64"
      ]
     },
     "execution_count": 25,
     "metadata": {},
     "output_type": "execute_result"
    }
   ],
   "source": [
    "df['Python'].value_counts()"
   ]
  },
  {
   "cell_type": "code",
   "execution_count": 49,
   "metadata": {},
   "outputs": [],
   "source": [
    "df['R'] = df['Job Description'].apply(lambda x: 1 if 'r studio' in x.lower() or 'r-studio' in x.lower() or \",R\" in x or \"R,\" in x or \",R\" in x or \" R \" in x in x.lower() else 0)"
   ]
  },
  {
   "cell_type": "code",
   "execution_count": 50,
   "metadata": {},
   "outputs": [
    {
     "data": {
      "text/plain": [
       "0    645\n",
       "1    355\n",
       "Name: R, dtype: int64"
      ]
     },
     "execution_count": 50,
     "metadata": {},
     "output_type": "execute_result"
    }
   ],
   "source": [
    "df['R'].value_counts()"
   ]
  },
  {
   "cell_type": "code",
   "execution_count": 28,
   "metadata": {},
   "outputs": [],
   "source": [
    "df['AWS'] = df['Job Description'].apply(lambda x: 1 if 'aws' in x.lower() else 0)"
   ]
  },
  {
   "cell_type": "code",
   "execution_count": 29,
   "metadata": {},
   "outputs": [
    {
     "data": {
      "text/plain": [
       "0    776\n",
       "1    224\n",
       "Name: AWS, dtype: int64"
      ]
     },
     "execution_count": 29,
     "metadata": {},
     "output_type": "execute_result"
    }
   ],
   "source": [
    "df['AWS'].value_counts()"
   ]
  },
  {
   "cell_type": "code",
   "execution_count": 30,
   "metadata": {},
   "outputs": [],
   "source": [
    "df['Excel'] = df['Job Description'].apply(lambda x: 1 if 'excel' in x.lower() else 0)"
   ]
  },
  {
   "cell_type": "code",
   "execution_count": 31,
   "metadata": {},
   "outputs": [
    {
     "data": {
      "text/plain": [
       "0    621\n",
       "1    379\n",
       "Name: Excel, dtype: int64"
      ]
     },
     "execution_count": 31,
     "metadata": {},
     "output_type": "execute_result"
    }
   ],
   "source": [
    "df['Excel'].value_counts()"
   ]
  },
  {
   "cell_type": "code",
   "execution_count": 32,
   "metadata": {},
   "outputs": [],
   "source": [
    "df['Spark'] = df['Job Description'].apply(lambda x: 1 if 'spark' in x.lower() else 0)"
   ]
  },
  {
   "cell_type": "code",
   "execution_count": 33,
   "metadata": {},
   "outputs": [
    {
     "data": {
      "text/plain": [
       "0    718\n",
       "1    282\n",
       "Name: Spark, dtype: int64"
      ]
     },
     "execution_count": 33,
     "metadata": {},
     "output_type": "execute_result"
    }
   ],
   "source": [
    "df['Spark'].value_counts()"
   ]
  },
  {
   "cell_type": "code",
   "execution_count": 35,
   "metadata": {},
   "outputs": [],
   "source": [
    "df['Tableau'] = df['Job Description'].apply(lambda x: 1 if 'tableau' in x.lower() else 0)"
   ]
  },
  {
   "cell_type": "code",
   "execution_count": 36,
   "metadata": {},
   "outputs": [
    {
     "data": {
      "text/plain": [
       "0    840\n",
       "1    160\n",
       "Name: Tableau, dtype: int64"
      ]
     },
     "execution_count": 36,
     "metadata": {},
     "output_type": "execute_result"
    }
   ],
   "source": [
    "df['Tableau'].value_counts()"
   ]
  },
  {
   "cell_type": "code",
   "execution_count": 37,
   "metadata": {},
   "outputs": [],
   "source": [
    "df['SQL'] = df['Job Description'].apply(lambda x: 1 if 'sql' in x.lower() else 0)"
   ]
  },
  {
   "cell_type": "code",
   "execution_count": 38,
   "metadata": {},
   "outputs": [
    {
     "data": {
      "text/plain": [
       "1    558\n",
       "0    442\n",
       "Name: SQL, dtype: int64"
      ]
     },
     "execution_count": 38,
     "metadata": {},
     "output_type": "execute_result"
    }
   ],
   "source": [
    "df['SQL'].value_counts()"
   ]
  },
  {
   "cell_type": "code",
   "execution_count": 39,
   "metadata": {},
   "outputs": [],
   "source": [
    "df['TensorFlow'] = df['Job Description'].apply(lambda x: 1 if 'tensorflow' in x.lower() else 0)"
   ]
  },
  {
   "cell_type": "code",
   "execution_count": 40,
   "metadata": {},
   "outputs": [
    {
     "data": {
      "text/plain": [
       "0    861\n",
       "1    139\n",
       "Name: TensorFlow, dtype: int64"
      ]
     },
     "execution_count": 40,
     "metadata": {},
     "output_type": "execute_result"
    }
   ],
   "source": [
    "df['TensorFlow'].value_counts()"
   ]
  },
  {
   "cell_type": "code",
   "execution_count": 41,
   "metadata": {},
   "outputs": [],
   "source": [
    "df['PowerBI'] = df['Job Description'].apply(lambda x: 1 if 'powerbi' in x.lower() else 0)"
   ]
  },
  {
   "cell_type": "code",
   "execution_count": 42,
   "metadata": {},
   "outputs": [
    {
     "data": {
      "text/plain": [
       "0    992\n",
       "1      8\n",
       "Name: PowerBI, dtype: int64"
      ]
     },
     "execution_count": 42,
     "metadata": {},
     "output_type": "execute_result"
    }
   ],
   "source": [
    "df['PowerBI'].value_counts()#dropit"
   ]
  },
  {
   "cell_type": "code",
   "execution_count": 43,
   "metadata": {},
   "outputs": [],
   "source": [
    "df['SaS'] = df['Job Description'].apply(lambda x: 1 if 'sas' in x.lower() else 0)"
   ]
  },
  {
   "cell_type": "code",
   "execution_count": 44,
   "metadata": {},
   "outputs": [
    {
     "data": {
      "text/plain": [
       "0    888\n",
       "1    112\n",
       "Name: SaS, dtype: int64"
      ]
     },
     "execution_count": 44,
     "metadata": {},
     "output_type": "execute_result"
    }
   ],
   "source": [
    "df['SaS'].value_counts()"
   ]
  },
  {
   "cell_type": "code",
   "execution_count": 45,
   "metadata": {},
   "outputs": [],
   "source": [
    "df['Flask'] = df['Job Description'].apply(lambda x: 1 if 'flask' in x.lower() else 0)"
   ]
  },
  {
   "cell_type": "code",
   "execution_count": 46,
   "metadata": {},
   "outputs": [
    {
     "data": {
      "text/plain": [
       "0    986\n",
       "1     14\n",
       "Name: Flask, dtype: int64"
      ]
     },
     "execution_count": 46,
     "metadata": {},
     "output_type": "execute_result"
    }
   ],
   "source": [
    "df['Flask'].value_counts()"
   ]
  },
  {
   "cell_type": "code",
   "execution_count": 47,
   "metadata": {},
   "outputs": [],
   "source": [
    "df['Hadoop'] = df['Job Description'].apply(lambda x: 1 if 'hadoop' in x.lower() else 0)"
   ]
  },
  {
   "cell_type": "code",
   "execution_count": 48,
   "metadata": {},
   "outputs": [
    {
     "data": {
      "text/plain": [
       "0    771\n",
       "1    229\n",
       "Name: Hadoop, dtype: int64"
      ]
     },
     "execution_count": 48,
     "metadata": {},
     "output_type": "execute_result"
    }
   ],
   "source": [
    "df['Hadoop'].value_counts()"
   ]
  },
  {
   "cell_type": "code",
   "execution_count": 53,
   "metadata": {},
   "outputs": [],
   "source": [
    "#statistics\n",
    "df['Statistics']=df[\"Job Description\"].apply(lambda x:1 if 'statistics' in x.lower() or 'statistical' in x.lower() else 0)"
   ]
  },
  {
   "cell_type": "code",
   "execution_count": 54,
   "metadata": {},
   "outputs": [
    {
     "data": {
      "text/plain": [
       "1    803\n",
       "0    197\n",
       "Name: Statistics, dtype: int64"
      ]
     },
     "execution_count": 54,
     "metadata": {},
     "output_type": "execute_result"
    }
   ],
   "source": [
    "df['Statistics'].value_counts()"
   ]
  },
  {
   "cell_type": "markdown",
   "metadata": {},
   "source": [
    "We will drop the unmamed column and save it for EDA Analysis"
   ]
  },
  {
   "cell_type": "code",
   "execution_count": 55,
   "metadata": {},
   "outputs": [],
   "source": [
    "df = df.drop(\"Unnamed: 0\",axis = 1)"
   ]
  },
  {
   "cell_type": "code",
   "execution_count": 57,
   "metadata": {},
   "outputs": [],
   "source": [
    "df.to_csv(\"Glassdoor_Salary_Cleaned.csv\",index=False)"
   ]
  },
  {
   "cell_type": "code",
   "execution_count": 58,
   "metadata": {},
   "outputs": [],
   "source": [
    "dfc = pd.read_csv(\"C:/Users/Nantha/Documents/Glassdoor-Job-Salary-Prediction/Glassdoor_Salary_Cleaned.csv\")"
   ]
  },
  {
   "cell_type": "code",
   "execution_count": 59,
   "metadata": {
    "scrolled": true
   },
   "outputs": [
    {
     "data": {
      "text/html": [
       "<div>\n",
       "<style scoped>\n",
       "    .dataframe tbody tr th:only-of-type {\n",
       "        vertical-align: middle;\n",
       "    }\n",
       "\n",
       "    .dataframe tbody tr th {\n",
       "        vertical-align: top;\n",
       "    }\n",
       "\n",
       "    .dataframe thead th {\n",
       "        text-align: right;\n",
       "    }\n",
       "</style>\n",
       "<table border=\"1\" class=\"dataframe\">\n",
       "  <thead>\n",
       "    <tr style=\"text-align: right;\">\n",
       "      <th></th>\n",
       "      <th>Job Title</th>\n",
       "      <th>Salary Estimate</th>\n",
       "      <th>Job Description</th>\n",
       "      <th>Rating</th>\n",
       "      <th>Company Name</th>\n",
       "      <th>Location</th>\n",
       "      <th>Headquarters</th>\n",
       "      <th>Size</th>\n",
       "      <th>Founded</th>\n",
       "      <th>Type of ownership</th>\n",
       "      <th>...</th>\n",
       "      <th>Excel</th>\n",
       "      <th>Spark</th>\n",
       "      <th>Tableau</th>\n",
       "      <th>SQL</th>\n",
       "      <th>TensorFlow</th>\n",
       "      <th>PowerBI</th>\n",
       "      <th>SaS</th>\n",
       "      <th>Flask</th>\n",
       "      <th>Hadoop</th>\n",
       "      <th>Statistics</th>\n",
       "    </tr>\n",
       "  </thead>\n",
       "  <tbody>\n",
       "    <tr>\n",
       "      <td>0</td>\n",
       "      <td>Data Scientist / Machine Learning Expert</td>\n",
       "      <td>96-101</td>\n",
       "      <td>Posting Title\\nData Scientist / Machine Learni...</td>\n",
       "      <td>3.9</td>\n",
       "      <td>Novartis</td>\n",
       "      <td>Cambridge, MA</td>\n",
       "      <td>Basel, Switzerland</td>\n",
       "      <td>10000+ employees</td>\n",
       "      <td>1996</td>\n",
       "      <td>Company - Public</td>\n",
       "      <td>...</td>\n",
       "      <td>0</td>\n",
       "      <td>0</td>\n",
       "      <td>0</td>\n",
       "      <td>0</td>\n",
       "      <td>0</td>\n",
       "      <td>0</td>\n",
       "      <td>0</td>\n",
       "      <td>0</td>\n",
       "      <td>0</td>\n",
       "      <td>1</td>\n",
       "    </tr>\n",
       "    <tr>\n",
       "      <td>1</td>\n",
       "      <td>Data Scientist</td>\n",
       "      <td>96-101</td>\n",
       "      <td>Overview\\n\\n\\nData Scientist\\n\\nLocations US-M...</td>\n",
       "      <td>4.0</td>\n",
       "      <td>Analysis Group</td>\n",
       "      <td>Boston, MA</td>\n",
       "      <td>Boston, MA</td>\n",
       "      <td>1001 to 5000 employees</td>\n",
       "      <td>1981</td>\n",
       "      <td>Private Practice / Firm</td>\n",
       "      <td>...</td>\n",
       "      <td>1</td>\n",
       "      <td>0</td>\n",
       "      <td>0</td>\n",
       "      <td>0</td>\n",
       "      <td>0</td>\n",
       "      <td>0</td>\n",
       "      <td>0</td>\n",
       "      <td>1</td>\n",
       "      <td>0</td>\n",
       "      <td>1</td>\n",
       "    </tr>\n",
       "    <tr>\n",
       "      <td>2</td>\n",
       "      <td>Data Scientist</td>\n",
       "      <td>96-101</td>\n",
       "      <td>Search by Keyword\\nMore Options\\n\\nSearch by L...</td>\n",
       "      <td>4.1</td>\n",
       "      <td>ABIOMED</td>\n",
       "      <td>Danvers, MA</td>\n",
       "      <td>Danvers, MA</td>\n",
       "      <td>1001 to 5000 employees</td>\n",
       "      <td>1981</td>\n",
       "      <td>Company - Public</td>\n",
       "      <td>...</td>\n",
       "      <td>1</td>\n",
       "      <td>1</td>\n",
       "      <td>0</td>\n",
       "      <td>0</td>\n",
       "      <td>1</td>\n",
       "      <td>0</td>\n",
       "      <td>0</td>\n",
       "      <td>0</td>\n",
       "      <td>1</td>\n",
       "      <td>1</td>\n",
       "    </tr>\n",
       "    <tr>\n",
       "      <td>3</td>\n",
       "      <td>Data Scientist</td>\n",
       "      <td>96-101</td>\n",
       "      <td>New England Biolabs is seeking a Data Scientis...</td>\n",
       "      <td>4.7</td>\n",
       "      <td>New England Biolabs</td>\n",
       "      <td>Ipswich, MA</td>\n",
       "      <td>Ipswich, MA</td>\n",
       "      <td>201 to 500 employees</td>\n",
       "      <td>1974</td>\n",
       "      <td>Company - Private</td>\n",
       "      <td>...</td>\n",
       "      <td>1</td>\n",
       "      <td>0</td>\n",
       "      <td>0</td>\n",
       "      <td>0</td>\n",
       "      <td>0</td>\n",
       "      <td>0</td>\n",
       "      <td>0</td>\n",
       "      <td>0</td>\n",
       "      <td>0</td>\n",
       "      <td>0</td>\n",
       "    </tr>\n",
       "    <tr>\n",
       "      <td>4</td>\n",
       "      <td>Data Scientist</td>\n",
       "      <td>96-101</td>\n",
       "      <td>STR is a government research contractor specia...</td>\n",
       "      <td>4.7</td>\n",
       "      <td>Systems &amp; Technology Research</td>\n",
       "      <td>Woburn, MA</td>\n",
       "      <td>Woburn, MA</td>\n",
       "      <td>201 to 500 employees</td>\n",
       "      <td>2010</td>\n",
       "      <td>Company - Private</td>\n",
       "      <td>...</td>\n",
       "      <td>1</td>\n",
       "      <td>1</td>\n",
       "      <td>0</td>\n",
       "      <td>1</td>\n",
       "      <td>1</td>\n",
       "      <td>0</td>\n",
       "      <td>0</td>\n",
       "      <td>0</td>\n",
       "      <td>1</td>\n",
       "      <td>1</td>\n",
       "    </tr>\n",
       "  </tbody>\n",
       "</table>\n",
       "<p>5 rows × 33 columns</p>\n",
       "</div>"
      ],
      "text/plain": [
       "                                  Job Title Salary Estimate  \\\n",
       "0  Data Scientist / Machine Learning Expert         96-101    \n",
       "1                            Data Scientist         96-101    \n",
       "2                            Data Scientist         96-101    \n",
       "3                            Data Scientist         96-101    \n",
       "4                            Data Scientist         96-101    \n",
       "\n",
       "                                     Job Description  Rating  \\\n",
       "0  Posting Title\\nData Scientist / Machine Learni...     3.9   \n",
       "1  Overview\\n\\n\\nData Scientist\\n\\nLocations US-M...     4.0   \n",
       "2  Search by Keyword\\nMore Options\\n\\nSearch by L...     4.1   \n",
       "3  New England Biolabs is seeking a Data Scientis...     4.7   \n",
       "4  STR is a government research contractor specia...     4.7   \n",
       "\n",
       "                    Company Name       Location        Headquarters  \\\n",
       "0                       Novartis  Cambridge, MA  Basel, Switzerland   \n",
       "1                 Analysis Group     Boston, MA          Boston, MA   \n",
       "2                        ABIOMED    Danvers, MA         Danvers, MA   \n",
       "3            New England Biolabs    Ipswich, MA         Ipswich, MA   \n",
       "4  Systems & Technology Research     Woburn, MA          Woburn, MA   \n",
       "\n",
       "                     Size  Founded        Type of ownership  ... Excel Spark  \\\n",
       "0        10000+ employees     1996         Company - Public  ...     0     0   \n",
       "1  1001 to 5000 employees     1981  Private Practice / Firm  ...     1     0   \n",
       "2  1001 to 5000 employees     1981         Company - Public  ...     1     1   \n",
       "3    201 to 500 employees     1974        Company - Private  ...     1     0   \n",
       "4    201 to 500 employees     2010        Company - Private  ...     1     1   \n",
       "\n",
       "  Tableau SQL  TensorFlow  PowerBI  SaS Flask  Hadoop  Statistics  \n",
       "0       0   0           0        0    0     0       0           1  \n",
       "1       0   0           0        0    0     1       0           1  \n",
       "2       0   0           1        0    0     0       1           1  \n",
       "3       0   0           0        0    0     0       0           0  \n",
       "4       0   1           1        0    0     0       1           1  \n",
       "\n",
       "[5 rows x 33 columns]"
      ]
     },
     "execution_count": 59,
     "metadata": {},
     "output_type": "execute_result"
    }
   ],
   "source": [
    "dfc.head()"
   ]
  },
  {
   "cell_type": "code",
   "execution_count": 60,
   "metadata": {
    "scrolled": true
   },
   "outputs": [
    {
     "data": {
      "text/plain": [
       "Index(['Job Title', 'Salary Estimate', 'Job Description', 'Rating',\n",
       "       'Company Name', 'Location', 'Headquarters', 'Size', 'Founded',\n",
       "       'Type of ownership', 'Industry', 'Sector', 'Revenue', 'Competitors',\n",
       "       'Min Salary', 'Max Salary', 'Avg Salary', 'Job State', 'Same State',\n",
       "       'Age', 'Python', 'R', 'AWS', 'Excel', 'Spark', 'Tableau', 'SQL',\n",
       "       'TensorFlow', 'PowerBI', 'SaS', 'Flask', 'Hadoop', 'Statistics'],\n",
       "      dtype='object')"
      ]
     },
     "execution_count": 60,
     "metadata": {},
     "output_type": "execute_result"
    }
   ],
   "source": [
    "dfc.columns"
   ]
  }
 ],
 "metadata": {
  "kernelspec": {
   "display_name": "Python 3",
   "language": "python",
   "name": "python3"
  },
  "language_info": {
   "codemirror_mode": {
    "name": "ipython",
    "version": 3
   },
   "file_extension": ".py",
   "mimetype": "text/x-python",
   "name": "python",
   "nbconvert_exporter": "python",
   "pygments_lexer": "ipython3",
   "version": "3.7.4"
  }
 },
 "nbformat": 4,
 "nbformat_minor": 2
}
